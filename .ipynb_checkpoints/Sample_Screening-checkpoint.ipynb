{
 "cells": [
  {
   "cell_type": "code",
   "execution_count": 1,
   "id": "immediate-going",
   "metadata": {},
   "outputs": [],
   "source": [
    "# Import the modules\n",
    "import numpy as np\n",
    "import pandas as pd\n",
    "from pathlib import Path\n",
    "from sklearn.metrics import balanced_accuracy_score\n",
    "from sklearn.metrics import confusion_matrix\n",
    "from sklearn.metrics import classification_report\n",
    "\n",
    "import warnings\n",
    "warnings.filterwarnings('ignore')"
   ]
  },
  {
   "cell_type": "code",
   "execution_count": 2,
   "id": "seventh-dictionary",
   "metadata": {},
   "outputs": [
    {
     "data": {
      "text/html": [
       "<div>\n",
       "<style scoped>\n",
       "    .dataframe tbody tr th:only-of-type {\n",
       "        vertical-align: middle;\n",
       "    }\n",
       "\n",
       "    .dataframe tbody tr th {\n",
       "        vertical-align: top;\n",
       "    }\n",
       "\n",
       "    .dataframe thead th {\n",
       "        text-align: right;\n",
       "    }\n",
       "</style>\n",
       "<table border=\"1\" class=\"dataframe\">\n",
       "  <thead>\n",
       "    <tr style=\"text-align: right;\">\n",
       "      <th></th>\n",
       "      <th>Grade Description</th>\n",
       "      <th>Credit Grade Count</th>\n",
       "    </tr>\n",
       "  </thead>\n",
       "  <tbody>\n",
       "    <tr>\n",
       "      <th>0</th>\n",
       "      <td>Grade A</td>\n",
       "      <td>1368272</td>\n",
       "    </tr>\n",
       "    <tr>\n",
       "      <th>1</th>\n",
       "      <td>Grade B</td>\n",
       "      <td>617801</td>\n",
       "    </tr>\n",
       "    <tr>\n",
       "      <th>2</th>\n",
       "      <td>Grade C</td>\n",
       "      <td>322876</td>\n",
       "    </tr>\n",
       "    <tr>\n",
       "      <th>3</th>\n",
       "      <td>Grade D</td>\n",
       "      <td>78609</td>\n",
       "    </tr>\n",
       "    <tr>\n",
       "      <th>4</th>\n",
       "      <td>Grade F</td>\n",
       "      <td>190980</td>\n",
       "    </tr>\n",
       "    <tr>\n",
       "      <th>5</th>\n",
       "      <td>Pass</td>\n",
       "      <td>144501</td>\n",
       "    </tr>\n",
       "    <tr>\n",
       "      <th>6</th>\n",
       "      <td>No Pass</td>\n",
       "      <td>33741</td>\n",
       "    </tr>\n",
       "    <tr>\n",
       "      <th>7</th>\n",
       "      <td>Incomplete No Credit</td>\n",
       "      <td>20126</td>\n",
       "    </tr>\n",
       "    <tr>\n",
       "      <th>8</th>\n",
       "      <td>Report Delayed</td>\n",
       "      <td>5722</td>\n",
       "    </tr>\n",
       "    <tr>\n",
       "      <th>9</th>\n",
       "      <td>Dropped</td>\n",
       "      <td>7729</td>\n",
       "    </tr>\n",
       "    <tr>\n",
       "      <th>10</th>\n",
       "      <td>Withdrew</td>\n",
       "      <td>173982</td>\n",
       "    </tr>\n",
       "    <tr>\n",
       "      <th>11</th>\n",
       "      <td>Military Withdrawal</td>\n",
       "      <td>96</td>\n",
       "    </tr>\n",
       "    <tr>\n",
       "      <th>12</th>\n",
       "      <td>Excused Withdrawal</td>\n",
       "      <td>540021</td>\n",
       "    </tr>\n",
       "  </tbody>\n",
       "</table>\n",
       "</div>"
      ],
      "text/plain": [
       "       Grade Description  Credit Grade Count\n",
       "0                Grade A             1368272\n",
       "1                Grade B              617801\n",
       "2                Grade C              322876\n",
       "3                Grade D               78609\n",
       "4                Grade F              190980\n",
       "5                   Pass              144501\n",
       "6                No Pass               33741\n",
       "7   Incomplete No Credit               20126\n",
       "8         Report Delayed                5722\n",
       "9                Dropped                7729\n",
       "10              Withdrew              173982\n",
       "11   Military Withdrawal                  96\n",
       "12    Excused Withdrawal              540021"
      ]
     },
     "execution_count": 2,
     "metadata": {},
     "output_type": "execute_result"
    }
   ],
   "source": [
    "# Read the CSV file\n",
    "student_grades_df = pd.read_csv(\n",
    "    Path(\"../GradesSumm_Spring2020.csv\")\n",
    ")\n",
    "\n",
    "student_grades_df.dropna()\n",
    "student_grades_df.drop(['State Name', 'Credit Grade Count (%)'], axis = 'columns', inplace = True)\n",
    "\n",
    "# Review the DataFrame\n",
    "student_grades_df"
   ]
  },
  {
   "cell_type": "code",
   "execution_count": 3,
   "id": "voluntary-coach",
   "metadata": {},
   "outputs": [
    {
     "data": {
      "text/plain": [
       "Grade Description     object\n",
       "Credit Grade Count     int64\n",
       "dtype: object"
      ]
     },
     "execution_count": 3,
     "metadata": {},
     "output_type": "execute_result"
    }
   ],
   "source": [
    "# Check Datatypes\n",
    "student_grades_df.dtypes"
   ]
  },
  {
   "cell_type": "code",
   "execution_count": 4,
   "id": "dimensional-grave",
   "metadata": {},
   "outputs": [
    {
     "data": {
      "image/png": "[encoded data removed]",
      "text/plain": [
       "<Figure size 1080x720 with 1 Axes>"
      ]
     },
     "metadata": {
      "needs_background": "light"
     },
     "output_type": "display_data"
    }
   ],
   "source": [
    "grade_distribution_plot = student_grades_df.plot.bar(\n",
    "    title = 'Grade Distribution: Crafton Hills College (Spring 2020)',\n",
    "    x = 'Grade Description',\n",
    "    ylabel = 'Credit Count (In Millions)',\n",
    "    xlabel = 'Grade Received',\n",
    "    color = 'green',\n",
    "    legend = False,\n",
    "    rot = 45,\n",
    "    figsize = (15, 10)\n",
    "      )\n",
    "\n",
    "grade_distribution_plot.get_figure().savefig(\"grade_distribution_plot.png\", bbox = 'tight')"
   ]
  },
  {
   "cell_type": "code",
   "execution_count": 5,
   "id": "complimentary-eugene",
   "metadata": {},
   "outputs": [],
   "source": [
    "# Drop unnecessary rows\n",
    "student_grades_df = student_grades_df.drop([5, 6, 7, 8, 9, 10, 11, 12])"
   ]
  },
  {
   "cell_type": "code",
   "execution_count": 17,
   "id": "exact-aside",
   "metadata": {},
   "outputs": [
    {
     "data": {
      "text/html": [
       "<div>\n",
       "<style scoped>\n",
       "    .dataframe tbody tr th:only-of-type {\n",
       "        vertical-align: middle;\n",
       "    }\n",
       "\n",
       "    .dataframe tbody tr th {\n",
       "        vertical-align: top;\n",
       "    }\n",
       "\n",
       "    .dataframe thead th {\n",
       "        text-align: right;\n",
       "    }\n",
       "</style>\n",
       "<table border=\"1\" class=\"dataframe\">\n",
       "  <thead>\n",
       "    <tr style=\"text-align: right;\">\n",
       "      <th></th>\n",
       "      <th>Grade Description</th>\n",
       "      <th>Credit Grade Count</th>\n",
       "      <th>Risk</th>\n",
       "      <th>Tokens Received</th>\n",
       "      <th>Percentage of Students</th>\n",
       "    </tr>\n",
       "  </thead>\n",
       "  <tbody>\n",
       "    <tr>\n",
       "      <th>0</th>\n",
       "      <td>Grade A</td>\n",
       "      <td>1368272</td>\n",
       "      <td>0</td>\n",
       "      <td>4</td>\n",
       "      <td>53.063868</td>\n",
       "    </tr>\n",
       "    <tr>\n",
       "      <th>1</th>\n",
       "      <td>Grade B</td>\n",
       "      <td>617801</td>\n",
       "      <td>1</td>\n",
       "      <td>3</td>\n",
       "      <td>23.959352</td>\n",
       "    </tr>\n",
       "    <tr>\n",
       "      <th>2</th>\n",
       "      <td>Grade C</td>\n",
       "      <td>322876</td>\n",
       "      <td>2</td>\n",
       "      <td>2</td>\n",
       "      <td>12.521669</td>\n",
       "    </tr>\n",
       "    <tr>\n",
       "      <th>3</th>\n",
       "      <td>Grade D</td>\n",
       "      <td>78609</td>\n",
       "      <td>3</td>\n",
       "      <td>1</td>\n",
       "      <td>3.048588</td>\n",
       "    </tr>\n",
       "    <tr>\n",
       "      <th>4</th>\n",
       "      <td>Grade F</td>\n",
       "      <td>190980</td>\n",
       "      <td>4</td>\n",
       "      <td>0</td>\n",
       "      <td>7.406523</td>\n",
       "    </tr>\n",
       "  </tbody>\n",
       "</table>\n",
       "</div>"
      ],
      "text/plain": [
       "  Grade Description  Credit Grade Count Risk Tokens Received  \\\n",
       "0           Grade A             1368272    0               4   \n",
       "1           Grade B              617801    1               3   \n",
       "2           Grade C              322876    2               2   \n",
       "3           Grade D               78609    3               1   \n",
       "4           Grade F              190980    4               0   \n",
       "\n",
       "   Percentage of Students  \n",
       "0               53.063868  \n",
       "1               23.959352  \n",
       "2               12.521669  \n",
       "3                3.048588  \n",
       "4                7.406523  "
      ]
     },
     "execution_count": 17,
     "metadata": {},
     "output_type": "execute_result"
    }
   ],
   "source": [
    "total = student_grades_df['Credit Grade Count'].sum()\n",
    "student_grades_df['Percentage of Students'] = (student_grades_df['Credit Grade Count'] / total * 100)\n",
    "\n",
    "student_grades_df"
   ]
  },
  {
   "cell_type": "code",
   "execution_count": 18,
   "id": "hispanic-diagram",
   "metadata": {},
   "outputs": [
    {
     "data": {
      "text/html": [
       "<div>\n",
       "<style scoped>\n",
       "    .dataframe tbody tr th:only-of-type {\n",
       "        vertical-align: middle;\n",
       "    }\n",
       "\n",
       "    .dataframe tbody tr th {\n",
       "        vertical-align: top;\n",
       "    }\n",
       "\n",
       "    .dataframe thead th {\n",
       "        text-align: right;\n",
       "    }\n",
       "</style>\n",
       "<table border=\"1\" class=\"dataframe\">\n",
       "  <thead>\n",
       "    <tr style=\"text-align: right;\">\n",
       "      <th></th>\n",
       "      <th>Grade Description</th>\n",
       "      <th>Credit Grade Count</th>\n",
       "      <th>Risk</th>\n",
       "      <th>Tokens Received</th>\n",
       "      <th>Percentage of Students</th>\n",
       "    </tr>\n",
       "  </thead>\n",
       "  <tbody>\n",
       "    <tr>\n",
       "      <th>0</th>\n",
       "      <td>Grade A</td>\n",
       "      <td>1368272</td>\n",
       "      <td>0</td>\n",
       "      <td>4</td>\n",
       "      <td>53.063868</td>\n",
       "    </tr>\n",
       "    <tr>\n",
       "      <th>1</th>\n",
       "      <td>Grade B</td>\n",
       "      <td>617801</td>\n",
       "      <td>1</td>\n",
       "      <td>3</td>\n",
       "      <td>23.959352</td>\n",
       "    </tr>\n",
       "    <tr>\n",
       "      <th>2</th>\n",
       "      <td>Grade C</td>\n",
       "      <td>322876</td>\n",
       "      <td>2</td>\n",
       "      <td>2</td>\n",
       "      <td>12.521669</td>\n",
       "    </tr>\n",
       "    <tr>\n",
       "      <th>3</th>\n",
       "      <td>Grade D</td>\n",
       "      <td>78609</td>\n",
       "      <td>3</td>\n",
       "      <td>1</td>\n",
       "      <td>3.048588</td>\n",
       "    </tr>\n",
       "    <tr>\n",
       "      <th>4</th>\n",
       "      <td>Grade F</td>\n",
       "      <td>190980</td>\n",
       "      <td>4</td>\n",
       "      <td>0</td>\n",
       "      <td>7.406523</td>\n",
       "    </tr>\n",
       "  </tbody>\n",
       "</table>\n",
       "</div>"
      ],
      "text/plain": [
       "  Grade Description  Credit Grade Count Risk Tokens Received  \\\n",
       "0           Grade A             1368272    0               4   \n",
       "1           Grade B              617801    1               3   \n",
       "2           Grade C              322876    2               2   \n",
       "3           Grade D               78609    3               1   \n",
       "4           Grade F              190980    4               0   \n",
       "\n",
       "   Percentage of Students  \n",
       "0               53.063868  \n",
       "1               23.959352  \n",
       "2               12.521669  \n",
       "3                3.048588  \n",
       "4                7.406523  "
      ]
     },
     "execution_count": 18,
     "metadata": {},
     "output_type": "execute_result"
    }
   ],
   "source": [
    "student_grades_df['Risk'] = ''\n",
    "\n",
    "student_grades_df.loc[student_grades_df['Grade Description'] == 'Grade A', 'Risk'] = 'Low'\n",
    "student_grades_df.loc[student_grades_df['Grade Description'] == 'Grade B', 'Risk'] = 'Low'\n",
    "student_grades_df.loc[student_grades_df['Grade Description'] == 'Grade C', 'Risk'] = 'Low'\n",
    "student_grades_df.loc[student_grades_df['Grade Description'] == 'Grade D', 'Risk'] = 'High'\n",
    "student_grades_df.loc[student_grades_df['Grade Description'] == 'Grade F', 'Risk'] = 'High'\n",
    "\n",
    "\n",
    "student_grades_df"
   ]
  },
  {
   "cell_type": "code",
   "execution_count": 19,
   "id": "seven-stage",
   "metadata": {},
   "outputs": [
    {
     "data": {
      "text/html": [
       "<div>\n",
       "<style scoped>\n",
       "    .dataframe tbody tr th:only-of-type {\n",
       "        vertical-align: middle;\n",
       "    }\n",
       "\n",
       "    .dataframe tbody tr th {\n",
       "        vertical-align: top;\n",
       "    }\n",
       "\n",
       "    .dataframe thead th {\n",
       "        text-align: right;\n",
       "    }\n",
       "</style>\n",
       "<table border=\"1\" class=\"dataframe\">\n",
       "  <thead>\n",
       "    <tr style=\"text-align: right;\">\n",
       "      <th></th>\n",
       "      <th>Grade Description</th>\n",
       "      <th>Credit Grade Count</th>\n",
       "      <th>Risk</th>\n",
       "      <th>Tokens Received</th>\n",
       "      <th>Percentage of Students</th>\n",
       "    </tr>\n",
       "  </thead>\n",
       "  <tbody>\n",
       "    <tr>\n",
       "      <th>0</th>\n",
       "      <td>Grade A</td>\n",
       "      <td>1368272</td>\n",
       "      <td>0</td>\n",
       "      <td>4</td>\n",
       "      <td>53.063868</td>\n",
       "    </tr>\n",
       "    <tr>\n",
       "      <th>1</th>\n",
       "      <td>Grade B</td>\n",
       "      <td>617801</td>\n",
       "      <td>1</td>\n",
       "      <td>3</td>\n",
       "      <td>23.959352</td>\n",
       "    </tr>\n",
       "    <tr>\n",
       "      <th>2</th>\n",
       "      <td>Grade C</td>\n",
       "      <td>322876</td>\n",
       "      <td>2</td>\n",
       "      <td>2</td>\n",
       "      <td>12.521669</td>\n",
       "    </tr>\n",
       "    <tr>\n",
       "      <th>3</th>\n",
       "      <td>Grade D</td>\n",
       "      <td>78609</td>\n",
       "      <td>3</td>\n",
       "      <td>1</td>\n",
       "      <td>3.048588</td>\n",
       "    </tr>\n",
       "    <tr>\n",
       "      <th>4</th>\n",
       "      <td>Grade F</td>\n",
       "      <td>190980</td>\n",
       "      <td>4</td>\n",
       "      <td>0</td>\n",
       "      <td>7.406523</td>\n",
       "    </tr>\n",
       "  </tbody>\n",
       "</table>\n",
       "</div>"
      ],
      "text/plain": [
       "  Grade Description  Credit Grade Count Risk Tokens Received  \\\n",
       "0           Grade A             1368272    0               4   \n",
       "1           Grade B              617801    1               3   \n",
       "2           Grade C              322876    2               2   \n",
       "3           Grade D               78609    3               1   \n",
       "4           Grade F              190980    4               0   \n",
       "\n",
       "   Percentage of Students  \n",
       "0               53.063868  \n",
       "1               23.959352  \n",
       "2               12.521669  \n",
       "3                3.048588  \n",
       "4                7.406523  "
      ]
     },
     "execution_count": 19,
     "metadata": {},
     "output_type": "execute_result"
    }
   ],
   "source": [
    "student_grades_df['Tokens Received'] = ''\n",
    "\n",
    "student_grades_df.loc[student_grades_df['Risk'] == 'Low', 'Tokens Received'] = 16\n",
    "student_grades_df.loc[student_grades_df['Risk'] == 'High', 'Tokens Received'] = 9\n",
    "\n",
    "\n",
    "student_grades_df"
   ]
  },
  {
   "cell_type": "code",
   "execution_count": 33,
   "id": "afraid-treasurer",
   "metadata": {},
   "outputs": [
    {
     "data": {
      "text/plain": [
       "Grade Description          object\n",
       "Credit Grade Count          int64\n",
       "Risk                       object\n",
       "Tokens Received            object\n",
       "Percentage of Students    float64\n",
       "dtype: object"
      ]
     },
     "execution_count": 33,
     "metadata": {},
     "output_type": "execute_result"
    }
   ],
   "source": [
    "# Reassign data types\n",
    "student_grades_df.dtypes"
   ]
  },
  {
   "cell_type": "code",
   "execution_count": 34,
   "id": "polish-artist",
   "metadata": {},
   "outputs": [],
   "source": [
    "# Separate the data into labels and features\n",
    "\n",
    "# Separate the y variable, the labels\n",
    "y = student_grades_df['Tokens Received']\n",
    "y= y.astype('int') \n",
    "\n",
    "# Separate the X variable, the features\n",
    "X = student_grades_df.drop(columns = ['Grade Description', 'Credit Grade Count', 'Tokens Received'])"
   ]
  },
  {
   "cell_type": "code",
   "execution_count": 35,
   "id": "caroline-characteristic",
   "metadata": {},
   "outputs": [],
   "source": [
    "# Import the train_test_learn module\n",
    "from sklearn.model_selection import train_test_split\n",
    "\n",
    "X_train, X_test, y_train, y_test = train_test_split(X, y)"
   ]
  },
  {
   "cell_type": "code",
   "execution_count": 36,
   "id": "remarkable-index",
   "metadata": {},
   "outputs": [
    {
     "data": {
      "text/plain": [
       "LogisticRegression()"
      ]
     },
     "execution_count": 36,
     "metadata": {},
     "output_type": "execute_result"
    }
   ],
   "source": [
    "# Import\n",
    "from sklearn.linear_model import LogisticRegression\n",
    "\n",
    "# Instantiate \n",
    "lr = LogisticRegression()\n",
    "\n",
    "# Fit \n",
    "lr.fit(X_train, y_train)"
   ]
  },
  {
   "cell_type": "code",
   "execution_count": 37,
   "id": "lesbian-exception",
   "metadata": {},
   "outputs": [],
   "source": [
    "# Make a prediction using the testing data\n",
    "y_pred = lr.predict(X_test)"
   ]
  },
  {
   "cell_type": "code",
   "execution_count": 38,
   "id": "adjacent-chicken",
   "metadata": {},
   "outputs": [
    {
     "data": {
      "text/plain": [
       "0.0"
      ]
     },
     "execution_count": 38,
     "metadata": {},
     "output_type": "execute_result"
    }
   ],
   "source": [
    "# Print the balanced_accuracy score of the model\n",
    "balanced_accuracy_score(y_test, y_pred)"
   ]
  },
  {
   "cell_type": "code",
   "execution_count": 39,
   "id": "greenhouse-tender",
   "metadata": {},
   "outputs": [
    {
     "data": {
      "text/plain": [
       "array([[0, 0, 0],\n",
       "       [1, 0, 0],\n",
       "       [1, 0, 0]])"
      ]
     },
     "execution_count": 39,
     "metadata": {},
     "output_type": "execute_result"
    }
   ],
   "source": [
    "# Generate a confusion matrix for the model\n",
    "confusion_matrix(y_test, y_pred)"
   ]
  },
  {
   "cell_type": "code",
   "execution_count": 40,
   "id": "weird-logan",
   "metadata": {},
   "outputs": [
    {
     "name": "stdout",
     "output_type": "stream",
     "text": [
      "                   pre       rec       spe        f1       geo       iba       sup\n",
      "\n",
      "          0       0.00      0.00      0.00      0.00      0.00      0.00       0.0\n",
      "          2       0.00      0.00      1.00      0.00      0.00      0.00       1.0\n",
      "          3       0.00      0.00      1.00      0.00      0.00      0.00       1.0\n",
      "\n",
      "avg / total       0.00      0.00      1.00      0.00      0.00      0.00       2.0\n",
      "\n"
     ]
    }
   ],
   "source": [
    "# Print the classification report for the model\n",
    "print(classification_report_imbalanced(y_test, y_pred))"
   ]
  },
  {
   "cell_type": "code",
   "execution_count": null,
   "id": "bigger-convenience",
   "metadata": {},
   "outputs": [],
   "source": []
  }
 ],
 "metadata": {
  "kernelspec": {
   "display_name": "Python 3.8.8 64-bit ('dev': conda)",
   "language": "python",
   "name": "python388jvsc74a57bd0ce7b87d6cea804f562e5e672110ed7207b00f981d814795d16aa8b1f7118d19c"
  },
  "language_info": {
   "codemirror_mode": {
    "name": "ipython",
    "version": 3
   },
   "file_extension": ".py",
   "mimetype": "text/x-python",
   "name": "python",
   "nbconvert_exporter": "python",
   "pygments_lexer": "ipython3",
   "version": "3.8.8"
  }
 },
 "nbformat": 4,
 "nbformat_minor": 5
}
